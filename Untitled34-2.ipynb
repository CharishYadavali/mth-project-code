{
 "cells": [
  {
   "cell_type": "code",
   "execution_count": 10,
   "id": "e2bde6b4",
   "metadata": {},
   "outputs": [
    {
     "name": "stderr",
     "output_type": "stream",
     "text": [
      "/Users/charishyadavali/anaconda3/lib/python3.11/site-packages/sklearn/cluster/_kmeans.py:1412: FutureWarning: The default value of `n_init` will change from 10 to 'auto' in 1.4. Set the value of `n_init` explicitly to suppress the warning\n",
      "  super()._check_params_vs_input(X, default_n_init=10)\n"
     ]
    },
    {
     "name": "stdout",
     "output_type": "stream",
     "text": [
      "Map saved as cluster_map.html\n"
     ]
    },
    {
     "data": {
      "text/html": [
       "\n",
       "        <iframe\n",
       "            width=\"900\"\n",
       "            height=\"800\"\n",
       "            src=\"cluster_map.html\"\n",
       "            frameborder=\"0\"\n",
       "            allowfullscreen\n",
       "            \n",
       "        ></iframe>\n",
       "        "
      ],
      "text/plain": [
       "<IPython.lib.display.IFrame at 0x319d48950>"
      ]
     },
     "metadata": {},
     "output_type": "display_data"
    },
    {
     "name": "stdout",
     "output_type": "stream",
     "text": [
      "Number of incidents in each cluster:\n",
      "3    11162\n",
      "0    10080\n",
      "2     8011\n",
      "1     7130\n",
      "dtype: int64\n"
     ]
    }
   ],
   "source": [
    "import pandas as pd\n",
    "from sklearn.cluster import KMeans\n",
    "import folium\n",
    "from IPython.display import IFrame, display\n",
    "\n",
    "# Load the dataset\n",
    "def load_data(filepath):\n",
    "    return pd.read_csv(filepath)\n",
    "\n",
    "# Perform KMeans clustering\n",
    "def perform_clustering(data, num_clusters):\n",
    "    features = data[['latitude', 'longitude']]\n",
    "    kmeans = KMeans(n_clusters=num_clusters)\n",
    "    data['cluster'] = kmeans.fit_predict(features)\n",
    "    return data, kmeans.cluster_centers_\n",
    "\n",
    "# Count incidents in each cluster\n",
    "def get_cluster_counts(data):\n",
    "    return data['cluster'].value_counts().to_dict()\n",
    "\n",
    "# Generate a folium map with clusters\n",
    "def create_cluster_map(data, cluster_counts, map_center, colors):\n",
    "    map_clusters = folium.Map(location=map_center, zoom_start=5)\n",
    "    for _, row in data.iterrows():\n",
    "        folium.CircleMarker(\n",
    "            location=[row['latitude'], row['longitude']],\n",
    "            radius=5,\n",
    "            color=colors[row['cluster']],\n",
    "            fill=True,\n",
    "            fill_color=colors[row['cluster']],\n",
    "            fill_opacity=0.7,\n",
    "            popup=f\"Cluster: {row['cluster']}<br>Incidents: {cluster_counts[row['cluster']]}\",\n",
    "        ).add_to(map_clusters)\n",
    "    return map_clusters\n",
    "\n",
    "# Main function\n",
    "def main():\n",
    "    # File path and parameters\n",
    "    filepath = r\"/Users/charishyadavali/Downloads/IndiaPoliticalViolence(no Islands_Kashmir_Ladakh).csv\"\n",
    "    num_clusters = 4\n",
    "    colors = ['red', 'blue', 'green', 'yellow']\n",
    "\n",
    "    # Load data and perform clustering\n",
    "    dataset = load_data(filepath)\n",
    "    dataset, cluster_centers = perform_clustering(dataset, num_clusters)\n",
    "\n",
    "    # Get cluster incident counts\n",
    "    cluster_counts = get_cluster_counts(dataset)\n",
    "\n",
    "    # Create map centered on mean latitude and longitude\n",
    "    map_center = [dataset['latitude'].mean(), dataset['longitude'].mean()]\n",
    "    cluster_map = create_cluster_map(dataset, cluster_counts, map_center, colors)\n",
    "    \n",
    "    # Save the map as an HTML file\n",
    "    map_path = \"cluster_map.html\"\n",
    "    cluster_map.save(map_path)\n",
    "    print(\"Map saved as cluster_map.html\")\n",
    "    \n",
    "    # Display the map inline using an IFrame\n",
    "    display(IFrame(map_path, width=900, height=800))\n",
    "\n",
    "    # Display the number of incidents in each cluster\n",
    "    print(\"Number of incidents in each cluster:\")\n",
    "    print(pd.Series(cluster_counts))\n",
    "\n",
    "# Run the main function\n",
    "if __name__ == \"__main__\":\n",
    "    main()\n"
   ]
  },
  {
   "cell_type": "code",
   "execution_count": null,
   "id": "6e95f4d8",
   "metadata": {},
   "outputs": [],
   "source": []
  }
 ],
 "metadata": {
  "kernelspec": {
   "display_name": "Python 3 (ipykernel)",
   "language": "python",
   "name": "python3"
  },
  "language_info": {
   "codemirror_mode": {
    "name": "ipython",
    "version": 3
   },
   "file_extension": ".py",
   "mimetype": "text/x-python",
   "name": "python",
   "nbconvert_exporter": "python",
   "pygments_lexer": "ipython3",
   "version": "3.11.5"
  }
 },
 "nbformat": 4,
 "nbformat_minor": 5
}
